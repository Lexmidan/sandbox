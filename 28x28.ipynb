{
 "cells": [
  {
   "cell_type": "code",
   "execution_count": 2,
   "id": "insured-chrome",
   "metadata": {},
   "outputs": [],
   "source": [
    "#import PyTorch\n",
    "import torch"
   ]
  },
  {
   "cell_type": "code",
   "execution_count": 2,
   "id": "black-frequency",
   "metadata": {},
   "outputs": [
    {
     "name": "stdout",
     "output_type": "stream",
     "text": [
      "tensor([-2.4024, -1.2241, -0.4982], requires_grad=True)\n",
      "tensor([-0.4024,  0.7759,  1.5018], grad_fn=<AddBackward0>)\n",
      "<AddBackward0 object at 0x000001937373F700>\n"
     ]
    }
   ],
   "source": [
    "# requires_grad = True -> tracks all operations on the tensor. \n",
    "x = torch.randn(3, requires_grad=True)\n",
    "y = x + 2\n",
    "\n",
    "# y was created as a result of an operation, so it has a grad_fn attribute.\n",
    "# grad_fn: references a Function that has created the Tensor\n",
    "print(x) # created by the user -> grad_fn is None\n",
    "print(y)\n",
    "print(y.grad_fn)"
   ]
  },
  {
   "cell_type": "code",
   "execution_count": 3,
   "id": "systematic-sucking",
   "metadata": {},
   "outputs": [
    {
     "name": "stdout",
     "output_type": "stream",
     "text": [
      "tensor([0., 0., 0.], grad_fn=<CopySlices>)\n",
      "torch.Size([3])\n",
      "tensor([-7.5000,  6.0000,  9.5000])\n"
     ]
    }
   ],
   "source": [
    "x = torch.tensor([.0,.0,.0], requires_grad=True)\n",
    "\n",
    "y = torch.zeros(3)\n",
    "y[0]=x[0]+2*x[1]-.5*x[2]\n",
    "y[1]=x[0]+1/2*x[1]+2*x[2]\n",
    "y[2]=-3.5*x[0]+x[1]+2*x[2]\n",
    "\n",
    "\n",
    "print(y)\n",
    "print(y.shape)\n",
    "\n",
    "v = torch.tensor([1, 2, 3], dtype=torch.float32)\n",
    "y.backward(v)\n",
    "print(x.grad)\n",
    "\n",
    "\n"
   ]
  },
  {
   "cell_type": "code",
   "execution_count": 11,
   "id": "wooden-requirement",
   "metadata": {},
   "outputs": [
    {
     "name": "stdout",
     "output_type": "stream",
     "text": [
      "#samples: 4, #features: 1\n",
      "Prediction before training: f(5) = -0.536\n",
      "epoch  1 : w =  0.272978812456131  loss =  tensor(33.2984, grad_fn=<MseLossBackward0>)\n",
      "epoch  1001 : w =  1.9923702478408813  loss =  tensor(8.4549e-05, grad_fn=<MseLossBackward0>)\n",
      "epoch  2001 : w =  1.9996192455291748  loss =  tensor(2.1068e-07, grad_fn=<MseLossBackward0>)\n",
      "epoch  3001 : w =  1.9999809265136719  loss =  tensor(5.2842e-10, grad_fn=<MseLossBackward0>)\n",
      "epoch  4001 : w =  1.9999972581863403  loss =  tensor(8.9813e-12, grad_fn=<MseLossBackward0>)\n",
      "epoch  5001 : w =  1.9999977350234985  loss =  tensor(6.0254e-12, grad_fn=<MseLossBackward0>)\n",
      "epoch  6001 : w =  1.9999977350234985  loss =  tensor(6.0254e-12, grad_fn=<MseLossBackward0>)\n",
      "epoch  7001 : w =  1.9999977350234985  loss =  tensor(6.0254e-12, grad_fn=<MseLossBackward0>)\n",
      "epoch  8001 : w =  1.9999977350234985  loss =  tensor(6.0254e-12, grad_fn=<MseLossBackward0>)\n",
      "epoch  9001 : w =  1.9999977350234985  loss =  tensor(6.0254e-12, grad_fn=<MseLossBackward0>)\n",
      "Prediction after training: f(5) = 16.000\n"
     ]
    }
   ],
   "source": [
    "# 1) Design model (input, output, forward pass with different layers)\n",
    "# 2) Construct loss and optimizer\n",
    "# 3) Training loop\n",
    "#       - Forward = compute prediction and loss\n",
    "#       - Backward = compute gradients\n",
    "#       - Update weights\n",
    "\n",
    "import torch\n",
    "import torch.nn as nn\n",
    "\n",
    "# Linear regression\n",
    "# f = w * x \n",
    "\n",
    "# here : f = 2 * x\n",
    "\n",
    "# 0) Training samples, watch the shape!\n",
    "X = torch.tensor([[1], [2], [3], [4]], dtype=torch.float32)\n",
    "Y = torch.tensor([[2], [4], [6], [8]], dtype=torch.float32)\n",
    "\n",
    "n_samples, n_features = X.shape\n",
    "print(f'#samples: {n_samples}, #features: {n_features}')\n",
    "# 0) create a test sample\n",
    "X_test = torch.tensor([8], dtype=torch.float32)\n",
    "\n",
    "# 1) Design Model, the model has to implement the forward pass!\n",
    "# Here we can use a built-in model from PyTorch\n",
    "input_size = n_features\n",
    "output_size = n_features\n",
    "\n",
    "# we can call this model with samples X\n",
    "model = nn.Linear(input_size, output_size)\n",
    "\n",
    "'''\n",
    "class LinearRegression(nn.Module):\n",
    "    def __init__(self, input_dim, output_dim):\n",
    "        super(LinearRegression, self).__init__()\n",
    "        # define diferent layers\n",
    "        self.lin = nn.Linear(input_dim, output_dim)\n",
    "\n",
    "    def forward(self, x):\n",
    "        return self.lin(x)\n",
    "\n",
    "model = LinearRegression(input_size, output_size)\n",
    "'''\n",
    "\n",
    "print(f'Prediction before training: f(5) = {model(X_test).item():.3f}')\n",
    "\n",
    "# 2) Define loss and optimizer\n",
    "learning_rate = 0.01\n",
    "n_iters = 10000\n",
    "\n",
    "loss = nn.MSELoss()\n",
    "optimizer = torch.optim.SGD(model.parameters(), lr=learning_rate)\n",
    "\n",
    "# 3) Training loop\n",
    "for epoch in range(n_iters):\n",
    "    # predict = forward pass with our model\n",
    "    y_predicted = model(X)\n",
    "\n",
    "    # loss\n",
    "    l = loss(Y, y_predicted)\n",
    "\n",
    "    # calculate gradients = backward pass\n",
    "    l.backward()\n",
    "\n",
    "    # update weights\n",
    "    optimizer.step()\n",
    "\n",
    "    # zero the gradients after updating\n",
    "    optimizer.zero_grad()\n",
    "\n",
    "    if epoch % 1000 == 0:\n",
    "        [w, b] = model.parameters() # unpack parameters\n",
    "        print('epoch ', epoch+1, ': w = ', w[0][0].item(), ' loss = ', l)\n",
    "\n",
    "print(f'Prediction after training: f(5) = {model(X_test).item():.3f}')\n"
   ]
  },
  {
   "cell_type": "code",
   "execution_count": 12,
   "id": "ethical-midnight",
   "metadata": {},
   "outputs": [],
   "source": [
    "import torch.nn as nn"
   ]
  },
  {
   "cell_type": "code",
   "execution_count": 13,
   "id": "thermal-investing",
   "metadata": {},
   "outputs": [],
   "source": [
    "x=torch.eye(3)"
   ]
  },
  {
   "cell_type": "code",
   "execution_count": 18,
   "id": "mechanical-treasury",
   "metadata": {},
   "outputs": [
    {
     "data": {
      "text/plain": [
       "tensor([[-0.0332, -0.7392,  0.2024],\n",
       "        [-0.0996, -0.7400, -0.2893],\n",
       "        [-0.0119,  0.1433,  0.1907]], grad_fn=<AddmmBackward0>)"
      ]
     },
     "execution_count": 18,
     "metadata": {},
     "output_type": "execute_result"
    }
   ],
   "source": [
    "nn.Linear(3,3)(x)"
   ]
  },
  {
   "cell_type": "code",
   "execution_count": null,
   "id": "unique-rebate",
   "metadata": {},
   "outputs": [],
   "source": []
  }
 ],
 "metadata": {
  "kernelspec": {
   "display_name": "Python 3 (ipykernel)",
   "language": "python",
   "name": "python3"
  },
  "language_info": {
   "codemirror_mode": {
    "name": "ipython",
    "version": 3
   },
   "file_extension": ".py",
   "mimetype": "text/x-python",
   "name": "python",
   "nbconvert_exporter": "python",
   "pygments_lexer": "ipython3",
   "version": "3.8.5"
  }
 },
 "nbformat": 4,
 "nbformat_minor": 5
}
